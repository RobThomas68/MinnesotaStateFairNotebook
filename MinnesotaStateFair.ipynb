{
 "cells": [
  {
   "cell_type": "code",
   "execution_count": null,
   "id": "da4574b7-632c-493d-8fdd-629c98effb8a",
   "metadata": {},
   "outputs": [],
   "source": [
    "import json\n",
    "import pandas as pd\n",
    "import re\n",
    "from IPython.utils.text import marquee\n",
    "\n",
    "pd.options.display.max_colwidth = 100\n",
    "pd.options.display.max_rows = 1000"
   ]
  },
  {
   "cell_type": "code",
   "execution_count": null,
   "id": "7b49832f-a846-4528-9596-2e1757bd73e9",
   "metadata": {},
   "outputs": [],
   "source": [
    "def ToExcel(df, filename):\n",
    "    with pd.ExcelWriter(filename, engine='xlsxwriter', engine_kwargs={'options':{'strings_to_numbers': True}}) as writer:\n",
    "        df.to_excel(writer, sheet_name='Sheet1', startrow=1, header=False, index=False)\n",
    "        (max_row, max_col) = df.shape\n",
    "        column_settings = [{'header' : c} for c in df.columns]\n",
    "        writer.sheets['Sheet1'].add_table(0, 0, max_row, max_col-1, {'columns' : column_settings})"
   ]
  },
  {
   "cell_type": "markdown",
   "id": "ba7ad471-06d6-4a29-8892-0afaf23d9cc7",
   "metadata": {},
   "source": [
    "# Read MinnesotaStateFair JSON file"
   ]
  },
  {
   "cell_type": "code",
   "execution_count": null,
   "id": "2581d500-cde2-4435-b6cc-364d106e6232",
   "metadata": {},
   "outputs": [],
   "source": [
    "with open('MinnesotaStateFair.json', 'rb') as f:\n",
    "    js = json.loads(f.read())"
   ]
  },
  {
   "cell_type": "code",
   "execution_count": null,
   "id": "51cfa453-9dca-418e-b04a-166268556d65",
   "metadata": {},
   "outputs": [],
   "source": [
    "sorted(list(js.keys()))"
   ]
  },
  {
   "cell_type": "code",
   "execution_count": null,
   "id": "916ee2c5-77ad-4616-9de4-66f8e2e3cfa1",
   "metadata": {},
   "outputs": [],
   "source": [
    "tables = [\n",
    "    'days', \n",
    "    'entertainmentCategories', 'entertainmentEntertainers', 'entertainmentEvents',\n",
    "    'locations', 'newAttractions',     \n",
    "    'sponsors', 'sponsorLocations',\n",
    "    'vendors', 'vendorCategories', 'vendorNewThisYear', \n",
    "]\n",
    "\n",
    "for table in tables:\n",
    "    df = pd.DataFrame().from_dict(js[table], orient='columns')\n",
    "    df.to_csv(f'./csv/{table}.csv', index=False)\n",
    "    ToExcel(df, (f'./excel/{table}.xlsx'))"
   ]
  },
  {
   "cell_type": "markdown",
   "id": "a6d75e7e-d30f-42b4-85bf-75e6fda23ff2",
   "metadata": {},
   "source": [
    "# Events"
   ]
  },
  {
   "cell_type": "code",
   "execution_count": null,
   "id": "2e99c4e7-f1d7-4b4a-a7d7-6b9a967a4da8",
   "metadata": {},
   "outputs": [],
   "source": [
    "df_entertainment_events = pd.read_csv('./csv/entertainmentEvents.csv', parse_dates=['datetime_start', 'datetime_end'])#, dtype={'vendor_id': 'object'})\n",
    "display(df_entertainment_events.head(1))"
   ]
  },
  {
   "cell_type": "code",
   "execution_count": null,
   "id": "58756a5f-2375-4da2-a4c8-067657ffb80d",
   "metadata": {},
   "outputs": [],
   "source": [
    "df_entertainment_events.isna().sum()"
   ]
  },
  {
   "cell_type": "code",
   "execution_count": null,
   "id": "6e32a2f4-539a-4c75-b4e6-2515a305c564",
   "metadata": {},
   "outputs": [],
   "source": [
    "df_entertainment_events[df_entertainment_events['latitude'].isna()].head()"
   ]
  },
  {
   "cell_type": "code",
   "execution_count": null,
   "id": "ad454365-1e6c-4ac2-a266-4a7e1315f1b2",
   "metadata": {},
   "outputs": [],
   "source": [
    "for col in ['type', 'all_day_flag', 'name']:\n",
    "    print(marquee(col))\n",
    "    display(df_entertainment_events[col].value_counts().head(10))"
   ]
  },
  {
   "cell_type": "code",
   "execution_count": null,
   "id": "90fc49a6-be83-4e93-810c-e6052b180863",
   "metadata": {},
   "outputs": [],
   "source": [
    "df_entertainment_events[df_entertainment_events['all_day_flag'] == 1]"
   ]
  },
  {
   "cell_type": "code",
   "execution_count": null,
   "id": "dd45c5e8-bcec-4fd3-997a-9468868eff6e",
   "metadata": {},
   "outputs": [],
   "source": [
    "len(df_entertainment_events['name'].unique())"
   ]
  },
  {
   "cell_type": "code",
   "execution_count": null,
   "id": "a1408b58-ebb6-4b2b-9d98-b8927e497016",
   "metadata": {},
   "outputs": [],
   "source": [
    "df_entertainment_events.head(1)"
   ]
  },
  {
   "cell_type": "code",
   "execution_count": null,
   "id": "263ede59-31df-49a7-b009-0fc27da0b654",
   "metadata": {},
   "outputs": [],
   "source": [
    "df_entertainment_events['id_event'].value_counts()"
   ]
  },
  {
   "cell_type": "code",
   "execution_count": null,
   "id": "a910973b-84a1-4c0d-a3bf-4492786ed5db",
   "metadata": {},
   "outputs": [],
   "source": [
    "df_events = (\n",
    "    df_entertainment_events\n",
    "    .assign(date = lambda df_: df_['datetime_start'].dt.date)\n",
    "    .assign(time = lambda df_: df_['datetime_start'].dt.time)\n",
    "    .drop(columns=['id_entertainer', 'slug', 'tour_name', 'billing_order', 'seating_description', 'type', 'location_path']) #, 'datetime_start', 'datetime_end'])\n",
    "    .rename(columns={'id_event': 'id', 'all_day_flag': 'isAllDay'})\n",
    "    .astype({'id': 'object', 'id_location': 'object', 'isAllDay': 'boolean'})\n",
    ")\n",
    "df_events.dtypes"
   ]
  },
  {
   "cell_type": "code",
   "execution_count": null,
   "id": "a37d0913-1911-4683-b9fa-1a1964e055e3",
   "metadata": {},
   "outputs": [],
   "source": [
    "df_events.groupby(['name', 'date'])['time'].agg(times=list).reset_index()"
   ]
  },
  {
   "cell_type": "code",
   "execution_count": null,
   "id": "1369dd9f-8cbf-4ed5-9d90-be3ef7cecd0f",
   "metadata": {},
   "outputs": [],
   "source": [
    "df = df_events.query('name == \"Timberworks Lumberjack Show\"').sort_values('datetime_start')\n",
    "df"
   ]
  },
  {
   "cell_type": "code",
   "execution_count": null,
   "id": "ed255be9-5801-4079-a73f-8d1acaa0f79b",
   "metadata": {},
   "outputs": [],
   "source": [
    "len(df_events.groupby(['name', 'location'])['id'].count().reset_index())"
   ]
  },
  {
   "cell_type": "code",
   "execution_count": null,
   "id": "940a112b-92fe-499b-af8e-acc6a13f2b04",
   "metadata": {},
   "outputs": [],
   "source": [
    "len(df_events.groupby(['name', 'location'])['id'].count().reset_index().drop_duplicates(subset=['name']))"
   ]
  },
  {
   "cell_type": "code",
   "execution_count": null,
   "id": "53b624c4-b6a8-413b-b4d5-6d078349bdcb",
   "metadata": {},
   "outputs": [],
   "source": []
  },
  {
   "cell_type": "code",
   "execution_count": null,
   "id": "6441f26c-e5ef-4ed5-9349-15a2bf9ef34a",
   "metadata": {},
   "outputs": [],
   "source": [
    "print(df.groupby(['name', 'date'])['time'].agg(times=list).reset_index().to_json(orient='records', indent=2))\n"
   ]
  },
  {
   "cell_type": "code",
   "execution_count": null,
   "id": "d0b5a779-ac84-4d2f-b305-5a2cf2584be0",
   "metadata": {},
   "outputs": [],
   "source": [
    "print(dd.set_index('name').to_json(orient='table', indent=2))"
   ]
  },
  {
   "cell_type": "code",
   "execution_count": null,
   "id": "11aa9837-0381-4c17-b4d7-58aefc9ecd5c",
   "metadata": {},
   "outputs": [],
   "source": []
  },
  {
   "cell_type": "code",
   "execution_count": null,
   "id": "ec1e60f5-51d1-4f78-a211-25844cf9ac7b",
   "metadata": {},
   "outputs": [],
   "source": []
  },
  {
   "cell_type": "code",
   "execution_count": null,
   "id": "664c801a-2022-43b9-9205-89e33da94e5d",
   "metadata": {},
   "outputs": [],
   "source": [
    "df_events = (\n",
    "    df_entertainment_events\n",
    "    .query('name == \"Timberworks Lumberjack Show\"')\n",
    "    .drop(columns=['id_entertainer', 'slug', 'tour_name', 'billing_order', 'seating_description', 'type', 'location_path'])\n",
    "    .rename(columns={'id_event': 'id', 'all_day_flag': 'isAllDay'})\n",
    "    .astype({'id': 'object', 'id_location': 'object', 'isAllDay': 'boolean'})\n",
    "    .assign(date = lambda df_:df_['datetime_start'].dt.date)\n",
    "    .assign(time = lambda df_:df_['datetime_start'].dt.time)\n",
    ")\n",
    "\n",
    "#print(df_events.shape)\n",
    "#display(df_events.sample(20))\n",
    "    \n",
    "\n",
    "df_events = (\n",
    "    df_events\n",
    "#    .merge(df_events.groupby(['name'])['datetime_start'].agg(datetime_starts=list).reset_index(), how='left', on='name')\n",
    "    .merge(df_events.groupby(['name', 'date'])['time'].agg(times=list).reset_index(), how='left')\n",
    "#    .drop_duplicates(subset=['name'])\n",
    "    .drop(columns=['datetime_start', 'datetime_end', 'time'])\n",
    ")\n",
    "\n",
    "#print(df_events.shape)\n",
    "\n",
    "#display(df_events.sample(20))\n",
    "#display(df_events.dtypes)\n",
    "\n",
    "\n",
    "location_columns = ['location', 'latitude', 'longitude']\n",
    "df_event_locations = ( \n",
    "    df_events[['id_location'] + location_columns]\n",
    "    .rename(columns={'id_location' : 'id'})\n",
    "    .drop_duplicates(subset=['id'])\n",
    ")\n",
    "    \n",
    "                               \n",
    "df_events = (\n",
    "    df_events.drop(columns=location_columns)\n",
    ")\n",
    "\n",
    "#display(df_events.head())\n",
    "#print(df_events.shape)\n",
    "\n",
    "#display(df_event_locations.head())\n",
    "#print(df_event_locations.shape)\n",
    "\n",
    "df_events"
   ]
  },
  {
   "cell_type": "code",
   "execution_count": null,
   "id": "efdbea37-f3cc-47ff-8839-ef4344ef6cec",
   "metadata": {},
   "outputs": [],
   "source": [
    "df_events.groupby(['name', 'date'])['times'].agg(ttt=list).reset_index().sample(50)"
   ]
  },
  {
   "cell_type": "code",
   "execution_count": null,
   "id": "71a51b2a-305a-4430-88dc-f7e1137f073d",
   "metadata": {},
   "outputs": [],
   "source": [
    "df_events"
   ]
  },
  {
   "cell_type": "code",
   "execution_count": null,
   "id": "c3358b9e-47e7-4710-b656-d4be39bf7e89",
   "metadata": {},
   "outputs": [],
   "source": []
  },
  {
   "cell_type": "code",
   "execution_count": null,
   "id": "2cb93a20-29d4-44ff-a47d-857da1a1b184",
   "metadata": {},
   "outputs": [],
   "source": []
  },
  {
   "cell_type": "code",
   "execution_count": null,
   "id": "7128afcd-7c0b-4721-90af-c7508d9ad422",
   "metadata": {},
   "outputs": [],
   "source": []
  },
  {
   "cell_type": "code",
   "execution_count": null,
   "id": "57907df2-a9ca-4da2-8216-e64b1b977d46",
   "metadata": {},
   "outputs": [],
   "source": []
  },
  {
   "cell_type": "code",
   "execution_count": null,
   "id": "35d13356-6b34-4cc4-9672-aa89499a2931",
   "metadata": {},
   "outputs": [],
   "source": [
    "df_events.name.value_counts()"
   ]
  },
  {
   "cell_type": "code",
   "execution_count": null,
   "id": "45ed0883-a3b5-4e5d-91c4-ea96d1b75eee",
   "metadata": {},
   "outputs": [],
   "source": []
  },
  {
   "cell_type": "code",
   "execution_count": null,
   "id": "53e5b94d-2650-4ef0-ae48-712ac9f82773",
   "metadata": {},
   "outputs": [],
   "source": []
  },
  {
   "cell_type": "code",
   "execution_count": null,
   "id": "129dfbfe-113b-4f88-af6a-f0309218bff5",
   "metadata": {},
   "outputs": [],
   "source": []
  },
  {
   "cell_type": "code",
   "execution_count": null,
   "id": "0a39a3ed-0eda-4889-9ad5-387e9e8f939a",
   "metadata": {},
   "outputs": [],
   "source": [
    "df_events[df_events['location'] == \"O'Gara's at the Fair\"]"
   ]
  },
  {
   "cell_type": "markdown",
   "id": "70088f84-8afb-4e07-9169-9f60ef0d1e8d",
   "metadata": {},
   "source": [
    "# Vendors New This Year"
   ]
  },
  {
   "cell_type": "code",
   "execution_count": null,
   "id": "29e69998-7037-4760-967e-27f60416b5bf",
   "metadata": {},
   "outputs": [],
   "source": [
    "df_new_vendors = pd.read_csv('./csv/vendorNewThisYear.csv', dtype={'vendor_id': 'object'})\n",
    "display(df_new_vendors.head(1))\n",
    "\n",
    "columns = ['vendor_id', 'name', 'excerpt', 'description']\n",
    "df_new_vendors = df_new_vendors[columns]\n",
    "df_new_vendors.head(1)"
   ]
  },
  {
   "cell_type": "code",
   "execution_count": null,
   "id": "70f5f53e-1635-4c8c-b444-7a1fa50bea03",
   "metadata": {},
   "outputs": [],
   "source": [
    "df_new_vendors.dtypes"
   ]
  },
  {
   "cell_type": "code",
   "execution_count": null,
   "id": "20c0fea9-7af7-4160-9889-f59e5461a1ca",
   "metadata": {},
   "outputs": [],
   "source": [
    "df_new_vendors.columns"
   ]
  },
  {
   "cell_type": "code",
   "execution_count": null,
   "id": "239a2893-ef12-47fb-8286-318d4bb0f93e",
   "metadata": {},
   "outputs": [],
   "source": [
    "df_new_vendors[df_new_vendors['excerpt'] != df_new_vendors['description']]"
   ]
  },
  {
   "cell_type": "code",
   "execution_count": null,
   "id": "f887714f-e763-4dda-b93d-d89148941068",
   "metadata": {},
   "outputs": [],
   "source": []
  },
  {
   "cell_type": "markdown",
   "id": "9b9cd221-0d97-416e-a03e-455e94b6aff4",
   "metadata": {},
   "source": [
    "# Vendor Categories"
   ]
  },
  {
   "cell_type": "code",
   "execution_count": null,
   "id": "ca713b29-c65f-45c7-b528-4df7a8ed7c8f",
   "metadata": {},
   "outputs": [],
   "source": [
    "df_vendor_categories = pd.read_csv('./csv/vendorCategories.csv')\n",
    "df_vendor_categories"
   ]
  },
  {
   "cell_type": "markdown",
   "id": "846be272-86c2-4017-9b53-2112e8d426f8",
   "metadata": {},
   "source": [
    "# Vendors"
   ]
  },
  {
   "cell_type": "code",
   "execution_count": null,
   "id": "349c6023-0651-4029-b9d6-ec788abe6b47",
   "metadata": {},
   "outputs": [],
   "source": [
    "df_vendors = pd.read_csv('./csv/vendors.csv', dtype={'id':'object'})\n",
    "df_vendors.query('name == \"Mazda\"')"
   ]
  },
  {
   "cell_type": "code",
   "execution_count": null,
   "id": "24f5a022-6dc3-4c68-a057-3cb78fdb5d0f",
   "metadata": {},
   "outputs": [],
   "source": [
    "df_vendors['name'].value_counts().head()"
   ]
  },
  {
   "cell_type": "code",
   "execution_count": null,
   "id": "49d592fd-b44b-4a98-8786-09c8667b7cbb",
   "metadata": {},
   "outputs": [],
   "source": [
    "print(df_vendors.shape)\n",
    "print(df_vendors.dtypes)"
   ]
  },
  {
   "cell_type": "code",
   "execution_count": null,
   "id": "c95b8991-993f-41fd-a4fd-0b020a11b7ba",
   "metadata": {},
   "outputs": [],
   "source": [
    "len(df_vendors['name'].unique())"
   ]
  },
  {
   "cell_type": "code",
   "execution_count": null,
   "id": "2605b0b9-e72a-4247-8855-0da231cbce8f",
   "metadata": {},
   "outputs": [],
   "source": [
    "# description - not useful\n",
    "df_vendors['description'].unique()[:20]"
   ]
  },
  {
   "cell_type": "code",
   "execution_count": null,
   "id": "fc01a8ec-2b9a-4702-9765-ffcc49744be0",
   "metadata": {},
   "outputs": [],
   "source": [
    "# new_this_year - not useful\n",
    "df_vendors['new_this_year'].unique()"
   ]
  },
  {
   "cell_type": "code",
   "execution_count": null,
   "id": "c724cd34-cf33-4fd2-8a0e-326ccb4783e4",
   "metadata": {},
   "outputs": [],
   "source": [
    "# promotions - not really needed\n",
    "df_vendors['promotions'].unique()[:20]"
   ]
  },
  {
   "cell_type": "code",
   "execution_count": null,
   "id": "0b501b6e-5acd-46ed-bc54-0c75b8d94438",
   "metadata": {},
   "outputs": [],
   "source": []
  },
  {
   "cell_type": "code",
   "execution_count": null,
   "id": "922c1680-868d-461e-adca-142180c92407",
   "metadata": {},
   "outputs": [],
   "source": [
    "cols = ['id', 'name', 'alcoholic_beverages', 'license_text', 'keywords', 'directions', 'latitude', 'longitude', 'is_food', 'categories']\n",
    "df_vendors_filter_columns = (\n",
    "    df_vendors\n",
    "    .assign(name = lambda df_:df_['name'].str.strip())\n",
    "    .loc[:, cols]\n",
    "    .fillna('')\n",
    ")\n",
    "\n",
    "print(df_vendors_filter_columns.shape)\n",
    "df_vendors_filter_columns.head(5)"
   ]
  },
  {
   "cell_type": "code",
   "execution_count": null,
   "id": "9030cd26-c25a-4f2f-bc47-e37f2a93791f",
   "metadata": {},
   "outputs": [],
   "source": [
    "df_vendors_filter_columns.dtypes"
   ]
  },
  {
   "cell_type": "code",
   "execution_count": null,
   "id": "3b5ced13-9782-4547-9faa-5d573ce66b31",
   "metadata": {},
   "outputs": [],
   "source": [
    "# 0 = not food, don't know what the other values represent\n",
    "df_vendors_filter_columns['is_food'].value_counts()"
   ]
  },
  {
   "cell_type": "code",
   "execution_count": null,
   "id": "f279a2b6-94d6-40c3-8568-27d83534cffa",
   "metadata": {},
   "outputs": [],
   "source": [
    "df_vendors_filter_columns.query('is_food == 5')"
   ]
  },
  {
   "cell_type": "code",
   "execution_count": null,
   "id": "534539c1-8493-4208-87f1-360f407ae2f7",
   "metadata": {},
   "outputs": [],
   "source": [
    "df_vendors_filter_columns.query('is_food == 2').head(10)"
   ]
  },
  {
   "cell_type": "code",
   "execution_count": null,
   "id": "22ea70f9-f63e-42ae-af14-ce538624a154",
   "metadata": {},
   "outputs": [],
   "source": []
  },
  {
   "cell_type": "code",
   "execution_count": null,
   "id": "f2cf55e0-1a6b-4ec7-bac0-5e8fcb44179c",
   "metadata": {},
   "outputs": [],
   "source": []
  },
  {
   "cell_type": "code",
   "execution_count": null,
   "id": "ddb7bade-f2ef-4af7-932c-6c56b629df70",
   "metadata": {},
   "outputs": [],
   "source": [
    "df_vendors_filter_columns['categories'].value_counts()"
   ]
  },
  {
   "cell_type": "code",
   "execution_count": null,
   "id": "c3137cd1-a05a-4b39-8a37-76a9f6fdfb21",
   "metadata": {},
   "outputs": [],
   "source": [
    "# category 41 : New Food/Flavor\n",
    "mask = df_vendors_filter_columns['categories'].apply(lambda x: '41' in x)\n",
    "print(df_vendors_filter_columns[mask].shape)\n",
    "df_vendors_filter_columns[mask]"
   ]
  },
  {
   "cell_type": "code",
   "execution_count": null,
   "id": "465419f7-e5bc-44da-af35-04a703e8c819",
   "metadata": {},
   "outputs": [],
   "source": [
    "# license_text - used for list of foods\n",
    "vendor_id = '364.1'\n",
    "df = df_vendors_filter_columns.query('id == @vendor_id')\n",
    "display(df)\n",
    "\n",
    "s = df['license_text'].iloc[0]\n",
    "print(s)\n",
    "\n",
    "re.split(',\\s*(?![^()]*\\))', s)"
   ]
  },
  {
   "cell_type": "code",
   "execution_count": null,
   "id": "4cdc5629-7a11-4213-9f2c-6a4238005786",
   "metadata": {},
   "outputs": [],
   "source": [
    "# license_text - used for list of foods\n",
    "vendor_id = '809.1'\n",
    "df = df_vendors_filter_columns.query('id == @vendor_id')\n",
    "display(df)\n",
    "\n",
    "s = df['license_text'].iloc[0]\n",
    "print(s)\n",
    "\n",
    "re.split(',\\s*(?![^()]*\\))', s)"
   ]
  },
  {
   "cell_type": "markdown",
   "id": "32144fae-e51e-47be-980b-d9e6dbab44b3",
   "metadata": {},
   "source": [
    "# Drinks"
   ]
  },
  {
   "cell_type": "code",
   "execution_count": null,
   "id": "adeb0634-79da-4264-81a5-5ba9a3735488",
   "metadata": {},
   "outputs": [],
   "source": [
    "s = df_vendors_filter_columns['alcoholic_beverages'].str.len().value_counts()\n",
    "display(s)"
   ]
  },
  {
   "cell_type": "code",
   "execution_count": null,
   "id": "7df4ef06-5783-4390-bd25-e15c45316102",
   "metadata": {},
   "outputs": [],
   "source": [
    "s = df_vendors_filter_columns['alcoholic_beverages'].str.len()\n",
    "df_drink_vendors = df_vendors_filter_columns[s!=0]\n",
    "\n",
    "print(df_drink_vendors.shape)\n",
    "display(df_drink_vendors.head())"
   ]
  },
  {
   "cell_type": "code",
   "execution_count": null,
   "id": "a123cfa6-c5aa-4800-8741-90dd7e5dee99",
   "metadata": {},
   "outputs": [],
   "source": []
  },
  {
   "cell_type": "code",
   "execution_count": null,
   "id": "01965222-f422-4af5-a8b1-da6a459a9b58",
   "metadata": {},
   "outputs": [],
   "source": [
    "# of locations that serve alcoholic beverages\n",
    "len(df_drink_vendors['name'].unique())"
   ]
  },
  {
   "cell_type": "code",
   "execution_count": null,
   "id": "3551a86d-08a1-44c2-b71e-28c596069ee6",
   "metadata": {},
   "outputs": [],
   "source": [
    "alcoholic_beverages = df_drink_vendors['alcoholic_beverages'].str.split('\\x0b').explode()\n",
    "print(len(alcoholic_beverages.unique()))\n",
    "\n",
    "alcoholic_beverages.sample(25)"
   ]
  },
  {
   "cell_type": "code",
   "execution_count": null,
   "id": "11b92040-4a61-4d76-8e5e-3b9d07a20535",
   "metadata": {},
   "outputs": [],
   "source": [
    "alcoholic_beverages[alcoholic_beverages.str.startswith('Big Wood Chocolate Chip Cookie Beer')]"
   ]
  },
  {
   "cell_type": "code",
   "execution_count": null,
   "id": "2b902a5a-68e9-4075-9427-de169a4c0cb3",
   "metadata": {},
   "outputs": [],
   "source": [
    "alcoholic_beverages[alcoholic_beverages.str.startswith('Castle')]"
   ]
  },
  {
   "cell_type": "code",
   "execution_count": null,
   "id": "783d1dc4-e603-448b-8660-02af1ca4aac3",
   "metadata": {},
   "outputs": [],
   "source": []
  },
  {
   "cell_type": "code",
   "execution_count": null,
   "id": "66781b9b-ece6-4e46-9585-b7fec0a74a05",
   "metadata": {},
   "outputs": [],
   "source": [
    "df_drinks = None\n",
    "df_drinks = (\n",
    "    df_vendors_filter_columns[df_vendors_filter_columns['alcoholic_beverages'].str.len() != 0]\n",
    "\n",
    "    .assign(drinkName      = lambda df_:df_['alcoholic_beverages'].str.split('\\x0b')).explode('drinkName')\n",
    "    .assign(isNew          = lambda df_:df_['drinkName'].str.contains('NEW'))\n",
    "    .assign(isOnlyAtFair   = lambda df_:df_['drinkName'].str.contains('ONLY AT THE FAIR'))\n",
    "\n",
    "    .assign(drinkName       = lambda df_:df_['drinkName'].str.replace('(NEW)', '', regex=False))\n",
    "    .assign(drinkName       = lambda df_:df_['drinkName'].str.replace('(ONLY AT THE FAIR)', '', regex=False))\n",
    "    .assign(drinkName       = lambda df_:df_['drinkName'].str.replace('’', \"'\", regex=False))\n",
    "             \n",
    "    .assign(drinkName       = lambda df_:df_['drinkName'].str.strip())\n",
    "             \n",
    "    .drop(columns=['alcoholic_beverages', 'license_text', 'keywords', 'is_food', 'categories'])\n",
    ")\n",
    "\n",
    "drinks_to_exclude = []\n",
    "drinks_to_exclude += ['Blue Moon', 'Bud Light', 'Budweiser', 'Busch Light', 'Coors Light', 'Corona']\n",
    "drinks_to_exclude += ['Dos Equis', 'Pabst Blue Ribbon', 'Pacifico', 'Heineken', 'Guinness', 'Stella Artois', 'Miller Lite', 'Michelob Golden Draft Light']\n",
    "cond1 = df_drinks['isNew'] == True\n",
    "cond2 = df_drinks['isOnlyAtFair'] == True\n",
    "cond3 = df_drinks.loc[:, 'drinkName'].str.contains(r'\\b(?:{})\\b'.format('|'.join(drinks_to_exclude)))\n",
    "df_drinks = df_drinks[cond1 | cond2 | ~cond3] \n",
    "df_drinks = df_drinks.merge(df_drinks.groupby('drinkName')['id'].agg(vendorIDs = list).reset_index(), how='left', on='drinkName')\n",
    "\n",
    "\n",
    "with open('./json/db.json', 'w') as json_file:\n",
    "    \n",
    "    # ---------- DRINKS ----------\n",
    "    df1 = (df_drinks\n",
    "           .drop_duplicates(subset='drinkName')[['drinkName', 'isNew', 'isOnlyAtFair', 'vendorIDs']]\n",
    "           .reset_index()\n",
    "           .rename(columns={'index': 'id', 'drinkName': 'name'})\n",
    "           .assign(id = lambda df_:df_['id'].add(1000).astype(str))\n",
    "          )\n",
    "    #df1.to_json('./json/drinks.json', orient='records')\n",
    "    \n",
    "    # ---------- FOODS ----------\n",
    "    df2 = (df_new_vendors[['vendor_id', 'name', 'excerpt', 'description']]\n",
    "           .reset_index()\n",
    "           .assign(vendor_id = lambda df_:df_['vendor_id'].str.split())\n",
    "           .rename(columns={'index': 'id', 'vendor_id': 'vendorIDs'})\n",
    "           .assign(id = lambda df_:df_['id'].add(2000).astype(str))\n",
    "        )\n",
    "    \n",
    "    # ---------- VENDORS ----------\n",
    "    df3 = df_vendors_filter_columns[['id', 'name', 'directions', 'latitude', 'longitude']]\n",
    "    #df3.to_json('./json/drink_vendors.json', orient='records')\n",
    "\n",
    "    \n",
    "    df_item_to_vendors = pd.concat([df1, df2])[['id', 'vendorIDs']]\n",
    "    df_vendor_to_items = df_item_to_vendors.explode('vendorIDs').groupby('vendorIDs')['id'].agg(itemIDs=list).reset_index().rename(columns={'vendorIDs':'id'})\n",
    "\n",
    "    df1 = df1.drop(columns=['vendorIDs'])\n",
    "    df2 = df2.drop(columns=['vendorIDs'])\n",
    "\n",
    "    js = {\n",
    "            'drinks'        : json.loads(df1.to_json(orient='records')),\n",
    "            'foods'         : json.loads(df2.to_json(orient='records')),\n",
    "            'vendors'       : json.loads(df3.to_json(orient='records')),\n",
    "            'itemToVendors' : json.loads(df_item_to_vendors.to_json(orient='records')),\n",
    "            'vendorToItems' : json.loads(df_vendor_to_items.to_json(orient='records'))\n",
    "         }\n",
    "    json.dump(js, json_file, indent=4)"
   ]
  },
  {
   "cell_type": "code",
   "execution_count": null,
   "id": "6edf97e8-a693-48dc-93c1-9d628f1b86f9",
   "metadata": {},
   "outputs": [],
   "source": [
    "df_item_to_vendors.head()"
   ]
  },
  {
   "cell_type": "code",
   "execution_count": null,
   "id": "9273e48e-6020-4628-a94a-2a6a47248b55",
   "metadata": {},
   "outputs": [],
   "source": []
  },
  {
   "cell_type": "code",
   "execution_count": null,
   "id": "72e08583-e0a5-4e73-a127-c229dd8ca9f1",
   "metadata": {},
   "outputs": [],
   "source": [
    "#df_drinks = df_drinks.merge(df_drinks.groupby('drinkName')['id'].agg(vendorIDs = list).reset_index(), how='left', on='drinkName')\n",
    "\n",
    "df_item_to_vendors.explode('vendorIDs').groupby('vendorIDs')['itemID'].agg(itemIDs=list).reset_index().rename(columns={'vendorIDs':'vendorID')\n",
    "                                                                                                    \n",
    "                                                                                            "
   ]
  },
  {
   "cell_type": "code",
   "execution_count": null,
   "id": "6b5046ef-3d02-4f7b-9fe4-2631885ce72d",
   "metadata": {},
   "outputs": [],
   "source": [
    "df = (\n",
    "    df_item_to_vendors.head()\n",
    "    .assign(vendorID= lambda df_:df_['vendorIDs'].explode('vendorID'))\n",
    ")\n",
    "df"
   ]
  },
  {
   "cell_type": "code",
   "execution_count": null,
   "id": "4004790e-94bc-4a0d-9528-4896b5fa3062",
   "metadata": {},
   "outputs": [],
   "source": [
    "df_drinks = None\n",
    "df_drinks = (\n",
    "    df_vendors_filter_columns[df_vendors_filter_columns['alcoholic_beverages'].str.len() != 0].head()\n",
    "\n",
    "     .assign(drinkName      = lambda df_:df_['alcoholic_beverages'].str.split('\\x0b')).explode('drinkName')\n",
    "#     .assign(isNew          = lambda df_:df_['drinkName'].str.contains('NEW'))\n",
    "#     .assign(isOnlyAtFair   = lambda df_:df_['drinkName'].str.contains('ONLY AT THE FAIR'))\n",
    "\n",
    "#     .assign(drinkName       = lambda df_:df_['drinkName'].str.replace('(NEW)', '', regex=False))\n",
    "#     .assign(drinkName       = lambda df_:df_['drinkName'].str.replace('(ONLY AT THE FAIR)', '', regex=False))\n",
    "#     .assign(drinkName       = lambda df_:df_['drinkName'].str.replace('’', \"'\", regex=False))\n",
    "             \n",
    "#     .assign(drinkName       = lambda df_:df_['drinkName'].str.strip())\n",
    "             \n",
    "#     .drop(columns=['alcoholic_beverages', 'license_text', 'keywords', 'is_food', 'categories'])\n",
    ")\n",
    "df_drinks"
   ]
  },
  {
   "cell_type": "code",
   "execution_count": null,
   "id": "4a603dd2-74ef-459d-ad86-eaa8ba3f8eb9",
   "metadata": {},
   "outputs": [],
   "source": []
  },
  {
   "cell_type": "code",
   "execution_count": null,
   "id": "b8a49943-af27-4f34-987d-0b1271d7dc43",
   "metadata": {},
   "outputs": [],
   "source": []
  },
  {
   "cell_type": "code",
   "execution_count": null,
   "id": "5eadadd2-7973-412f-9a25-e137f2e410bb",
   "metadata": {},
   "outputs": [],
   "source": []
  },
  {
   "cell_type": "code",
   "execution_count": null,
   "id": "4efa9227-00d5-417a-a2e2-1f0a001e76e6",
   "metadata": {},
   "outputs": [],
   "source": [
    "df1.head() "
   ]
  },
  {
   "cell_type": "code",
   "execution_count": null,
   "id": "c03548cf-1096-48cc-ad81-fdc97ab54045",
   "metadata": {},
   "outputs": [],
   "source": [
    "df2.head()"
   ]
  },
  {
   "cell_type": "code",
   "execution_count": null,
   "id": "6ffc5404-b4fa-4506-b970-550e669a5a75",
   "metadata": {},
   "outputs": [],
   "source": [
    "df3.head()"
   ]
  },
  {
   "cell_type": "code",
   "execution_count": null,
   "id": "b584d9d0-3a50-4127-8dfc-6a6fcb247c4e",
   "metadata": {},
   "outputs": [],
   "source": []
  },
  {
   "cell_type": "code",
   "execution_count": null,
   "id": "22011a69-0f85-4085-9c9f-12e807b90036",
   "metadata": {},
   "outputs": [],
   "source": [
    "df_vendors_filter_columns.head()"
   ]
  },
  {
   "cell_type": "code",
   "execution_count": null,
   "id": "9156ed6e-7c7a-45c1-af36-ef533283aeb9",
   "metadata": {},
   "outputs": [],
   "source": [
    "df_new_vendors.head()"
   ]
  },
  {
   "cell_type": "code",
   "execution_count": null,
   "id": "83696ba9-98c6-4543-8375-94c736d6f6d5",
   "metadata": {},
   "outputs": [],
   "source": []
  },
  {
   "cell_type": "code",
   "execution_count": null,
   "id": "e7037007-6295-49a3-b823-6d60afb05b2b",
   "metadata": {},
   "outputs": [],
   "source": [
    "df_drinks.head()"
   ]
  },
  {
   "cell_type": "code",
   "execution_count": null,
   "id": "9fb90d8d-b29a-4c2b-aef0-6a7522ebe78d",
   "metadata": {},
   "outputs": [],
   "source": [
    "df_drinks.merge(df_drinks.groupby('drinkName')['id'].agg(vendor_ids = list).reset_index(), how='left', on='drinkName')"
   ]
  },
  {
   "cell_type": "code",
   "execution_count": null,
   "id": "7ebbf872-1ee4-4d57-b177-b2470d84d3b5",
   "metadata": {},
   "outputs": [],
   "source": [
    "df_drinks.sample(20)"
   ]
  },
  {
   "cell_type": "code",
   "execution_count": null,
   "id": "5555a92f-a9ae-47df-9012-ec98d79786c8",
   "metadata": {},
   "outputs": [],
   "source": [
    "df_drinks['drinkName'].value_counts().head()"
   ]
  },
  {
   "cell_type": "code",
   "execution_count": null,
   "id": "134ddb79-5d42-43ed-93e3-5418e4d18465",
   "metadata": {},
   "outputs": [],
   "source": [
    "df_drinks.query('drinkName == \"Grain Belt Premium\"')"
   ]
  },
  {
   "cell_type": "code",
   "execution_count": null,
   "id": "e244c69c-919d-4e28-b128-da36ce7e27a7",
   "metadata": {},
   "outputs": [],
   "source": [
    "df_drinks.groupby('drinkName')['id'].agg(vendor_ids=list)#.reset_index().query('drinkName == \"Grain Belt Premium\"')"
   ]
  },
  {
   "cell_type": "code",
   "execution_count": null,
   "id": "e3016001-fdaa-44a9-841f-1dde59ba565c",
   "metadata": {},
   "outputs": [],
   "source": []
  },
  {
   "cell_type": "code",
   "execution_count": null,
   "id": "b1e73b28-1b1c-4a08-b3a0-94fff53688f0",
   "metadata": {},
   "outputs": [],
   "source": []
  },
  {
   "cell_type": "code",
   "execution_count": null,
   "id": "cd9f15d8-8eca-4a13-acab-85627b30a7bf",
   "metadata": {},
   "outputs": [],
   "source": [
    "# Watch out for trailing spaces\n",
    "df_drinks.query('drinkName == \"Castle Danger Orange Cream Ale\"')"
   ]
  },
  {
   "cell_type": "code",
   "execution_count": null,
   "id": "98941a3a-002f-402d-a518-c2323f695265",
   "metadata": {},
   "outputs": [],
   "source": [
    "# Watch out for trailing spaces - this should be fixed by includeing the space when replacing (NEW) and (ONLY AT THE FAIR)\n",
    "df_drinks.query('drinkName == \"Castle Danger Orange Cream Ale \"')"
   ]
  },
  {
   "cell_type": "code",
   "execution_count": null,
   "id": "15e50ad2-a824-4d29-8b31-55d7e3c4787b",
   "metadata": {},
   "outputs": [],
   "source": [
    "df_drinks.query('drinkName == \"Big Wood Chocolate Chip Cookie Beer\"')"
   ]
  },
  {
   "cell_type": "code",
   "execution_count": null,
   "id": "a6eb190f-8b27-42e0-83df-b6606ccb2b96",
   "metadata": {},
   "outputs": [],
   "source": [
    "df_drinks.query('drinkName == \"Big Wood Chocolate Chip Cookie Beer \"')"
   ]
  },
  {
   "cell_type": "code",
   "execution_count": null,
   "id": "77be2a9a-6a25-475c-be83-6ebd983368b7",
   "metadata": {},
   "outputs": [],
   "source": [
    "cond = df_drinks['drinkName'].str.startswith('Castle')\n",
    "df_drinks[cond]"
   ]
  },
  {
   "cell_type": "code",
   "execution_count": null,
   "id": "bd675ff6-068c-4e18-8b81-09491ad7cc4d",
   "metadata": {},
   "outputs": [],
   "source": []
  },
  {
   "cell_type": "code",
   "execution_count": null,
   "id": "e1f506d6-fd8c-41bb-8984-971319d91c91",
   "metadata": {},
   "outputs": [],
   "source": [
    "df_drinks[['isNew', 'isOnlyAtFair']].sum()"
   ]
  },
  {
   "cell_type": "code",
   "execution_count": null,
   "id": "f576f351-c27b-442e-8536-bcded2698370",
   "metadata": {},
   "outputs": [],
   "source": [
    "# https://www.mnstatefair.org/general-info/specialty-brews-and-beverages/"
   ]
  },
  {
   "cell_type": "code",
   "execution_count": null,
   "id": "2c7e30bc-164b-4e63-8991-ce17cf3b23fb",
   "metadata": {},
   "outputs": [],
   "source": [
    "df_drinks[df_drinks['isOnlyAtFair']].drop_duplicates('drinkName')['drinkName'].sort_values()"
   ]
  },
  {
   "cell_type": "code",
   "execution_count": null,
   "id": "702128fe-c9c4-4572-b881-9725f61b7975",
   "metadata": {},
   "outputs": [],
   "source": [
    "df_drinks[df_drinks['isNew']].drop_duplicates('drinkName')['drinkName'].sort_values()"
   ]
  },
  {
   "cell_type": "code",
   "execution_count": null,
   "id": "c151b349-1f0f-4606-915d-982da96184c3",
   "metadata": {},
   "outputs": [],
   "source": [
    "df_drinks.query('(isNew ==True)').drop_duplicates(subset='drinkName').sort_values('drinkName')"
   ]
  },
  {
   "cell_type": "code",
   "execution_count": null,
   "id": "cbefa88d-7816-4290-a947-b1259cadd1d7",
   "metadata": {},
   "outputs": [],
   "source": []
  },
  {
   "cell_type": "code",
   "execution_count": null,
   "id": "92bd92f9-028e-4bb5-8f50-9478fe833070",
   "metadata": {},
   "outputs": [],
   "source": []
  },
  {
   "cell_type": "markdown",
   "id": "dca76ad3-0d00-41a4-953f-d02116eeb86e",
   "metadata": {},
   "source": [
    "# Foods"
   ]
  },
  {
   "cell_type": "code",
   "execution_count": null,
   "id": "87e51ebb-a08d-4acb-8cef-101001e583a5",
   "metadata": {},
   "outputs": [],
   "source": [
    "exclude = ['bottled water', 'Diet Coke', 'Coca-Cola', 'Sprite', 'Pepsi', 'Diet Pepsi', 'Milk', 'Coffee', 'Beer', 'Root Beer', 'Sierra Mist', 'Dr Pepper', 'Iced Tea', 'Mountain Dew', 'Mello Yello',\n",
    "           'Diet Mountain Dew', 'Powerade', 'Orange Juice', 'Pink Lemonade', 'Cherry Coke', 'Lemonade', 'Fresh-squeezed lemonade', '7-UP', 'Fanta Orange', 'Barq\\'s Root Beer',\n",
    "           'Orange soda', 'Hot Chocolate', '', 'Gatorade', 'Orange Drink', 'Juice', 'Mug Root Beer', 'Chocolate Milk', 'Brewed malt beverages', 'Glow sticks', 'Cheese corn',\n",
    "           'Bacon Cheeseburgers', 'Hamburgers', 'Hot dogs', 'ice cream cones', 'Foot long hot dogs', 'Caramel corn', 'root beer floats', 'Floats', 'Orange floats', 'Nachos',\n",
    "           'popcorn', 'Cheeseburgers', 'French Fries', 'sundaes', 'Ice Cream', 'Minnesota wine', 'Grape soda', 'Eggs', 'Lattes', 'Corn Dogs', 'Corn dogs - 12\"', 'espresso', 'Sausage',\n",
    "           'Sparkling water', 'Cappuccino', 'Fruit Punch', 'BBQ chips', 'dinners (beans, coleslaw)', 'Iced coffee', \"Schell's beer\", 'Red Bull slushes', 'honey sriracha sauce'\n",
    "          ]\n",
    "df_foods = (\n",
    "    df_vendors_filter_columns.query('is_food != 0')\n",
    "    #df_vendors_filter_columns.query('is_food == 2')\n",
    "    .assign(food=     lambda df_:df_['license_text'].str.split(',s*(?![^()]*\\))')).explode('food')  \n",
    "    .assign(food=     lambda df_:df_['food'].str.strip())\n",
    "    #.drop(columns=['alcoholic_beverages'])\n",
    "    .drop(columns=['license_text', 'keywords', 'is_food'])\n",
    "    #.drop(columns=['categories'])\n",
    ")\n",
    "\n",
    "cond = df_foods['categories'].apply(lambda x: '41' in x)\n",
    "df_foods = df_foods[cond]\n",
    "\n",
    "cond = ~df_foods['food'].isin(exclude)\n",
    "df_foods = df_foods[cond]\n",
    "\n",
    "print(df_foods.shape)    \n",
    "    \n",
    "#['food'].str.strip() #.value_counts().drop(labels=exclude).head(50)\n",
    "#foods= df_food.assign(food=df_food['license_text'].str.split(',s*(?![^()]*\\))')).explode('food')['food'].str.strip().reset_index(drop=True)\n",
    "#s = foods.str.len().sort_values(ascending=False).index\n",
    "#foods.reindex(s).head(250).sort_values()\n",
    "\n",
    "df_foods.sample(20)"
   ]
  },
  {
   "cell_type": "code",
   "execution_count": null,
   "id": "117da869-75c4-4650-a95d-bd6667db56e3",
   "metadata": {},
   "outputs": [],
   "source": [
    "cond1 = df_vendors_filter_columns['is_food'] != 0\n",
    "cond2 = df_vendors_filter_columns['categories'].apply(lambda x: '41' in x)\n",
    "df_new_food = df_vendors_filter_columns[cond1 & cond2]\n",
    "s = df_new_food.assign(food=df_food['license_text'].str.split(',s*(?![^()]*\\))')).explode('food')['food'].str.strip().value_counts()#.drop(labels=exclude)\n",
    "#s[s==1].head(50)"
   ]
  },
  {
   "cell_type": "code",
   "execution_count": null,
   "id": "6a6ecd44-9ca3-4634-ac35-e8a0a658e8a2",
   "metadata": {},
   "outputs": [],
   "source": []
  },
  {
   "cell_type": "code",
   "execution_count": null,
   "id": "cc5259c7-3f48-476f-8ce9-50f5b5e58bb3",
   "metadata": {},
   "outputs": [],
   "source": [
    "df_vendors_filter_columns.sort_values('name').iloc[0]['name']"
   ]
  },
  {
   "cell_type": "code",
   "execution_count": null,
   "id": "3c1ae644-71fb-47de-bcc4-b89ff2f30c83",
   "metadata": {},
   "outputs": [],
   "source": [
    "df.query('name == \"Andy\\'s Grille\"')['alcoholic_beverages'].iloc[0].split('\\x0b')"
   ]
  },
  {
   "cell_type": "code",
   "execution_count": null,
   "id": "c61c221f-71dc-438e-9956-01580af0b5fe",
   "metadata": {},
   "outputs": [],
   "source": [
    "name = \"LuLu's Public House\"\n",
    "df_vendors.query('name == @name')['alcoholic_beverages'].iloc[0].split('\\x0b')"
   ]
  },
  {
   "cell_type": "code",
   "execution_count": null,
   "id": "7fb32103-44f6-4108-9d24-b6cc10756a0e",
   "metadata": {},
   "outputs": [],
   "source": [
    "s = df_vendors.query('name == @name')['license_text'].iloc[0]\n",
    "re.split(',\\s*(?![^()]*\\))', s)"
   ]
  },
  {
   "cell_type": "code",
   "execution_count": null,
   "id": "50e8ebcc-18ef-4ecc-b456-f8deba8be581",
   "metadata": {},
   "outputs": [],
   "source": [
    "name = 'Solem Concessions Cheese Curds and Mini Donuts'\n",
    "s = df_vendors.query('name == @name')['license_text'].iloc[0] \n",
    "#s.split(', ')  \n",
    "\n",
    "re.split(',\\s*(?![^()]*\\))', s)\n",
    "\n",
    "# don't split on commas within ()  !!"
   ]
  },
  {
   "cell_type": "code",
   "execution_count": null,
   "id": "2401b9bb-4aad-4c55-878a-02fe733af69a",
   "metadata": {},
   "outputs": [],
   "source": [
    "df_vendors.query('name == @name')#.loc[:,['latitude', 'longitude']]"
   ]
  },
  {
   "cell_type": "code",
   "execution_count": null,
   "id": "1a1a0d81-29ce-4207-93b6-01f972622a50",
   "metadata": {},
   "outputs": [],
   "source": [
    "df_vendors['license_text'] = df_vendors['license_text'].fillna('')\n",
    "cond = df_vendors['license_text'].str.contains('donut')\n",
    "df_vendors[cond]"
   ]
  },
  {
   "cell_type": "code",
   "execution_count": null,
   "id": "621ae2e6-ab88-4873-9170-7d956c2a060d",
   "metadata": {},
   "outputs": [],
   "source": [
    "df_vendors['new_this_year'].unique()"
   ]
  },
  {
   "cell_type": "code",
   "execution_count": null,
   "id": "997dc6b9-a4ac-4d14-b238-92f549191a3c",
   "metadata": {},
   "outputs": [],
   "source": [
    "df_vendors['alcoholic_beverages'] = df_vendors['alcoholic_beverages'].fillna('')\n",
    "\n",
    "cond = df_vendors['alcoholic_beverages'].str.contains('NEW')\n",
    "df_vendors[cond]"
   ]
  },
  {
   "cell_type": "code",
   "execution_count": null,
   "id": "0121bf48-9b40-433b-9692-e8bc41bb68ea",
   "metadata": {},
   "outputs": [],
   "source": [
    "names = ['The Blue Barn', 'LuLu\\'s Public House', 'Fluffy\\'s Hand Cut Donuts', 'Minnesota Wine Country', 'O\\'Gara\\'s at the Fair', 'Pronto Pups', 'The Hangar', 'Turkey to Go']\n",
    "markers = df_vendors.query('name in @names').loc[:,['name', 'latitude', 'longitude']]"
   ]
  },
  {
   "cell_type": "code",
   "execution_count": null,
   "id": "56d84738-051a-4788-b546-f01fdce387c0",
   "metadata": {},
   "outputs": [],
   "source": [
    "colors = ['red', 'blue', 'green', 'purple', 'orange', 'pink',\n",
    "          'darkred', 'darkblue', 'darkgreen', 'darkpurple',\n",
    "          'lightred', 'lightgray',\n",
    "          'beige', 'cadetblue', 'white', 'gray', 'black' ]"
   ]
  },
  {
   "cell_type": "code",
   "execution_count": null,
   "id": "1b4ffb67-e851-42da-a5f9-8eb686317d9e",
   "metadata": {},
   "outputs": [],
   "source": [
    "#https://getbootstrap.com/docs/3.3/components/\n",
    "\n",
    "import folium\n",
    "m = folium.Map(location=[44.98106, -93.174351], zoom_start=17)\n",
    "\n",
    "for marker in markers.itertuples():\n",
    "    color = colors[names.index(marker.name)]\n",
    "    folium.Marker(\n",
    "        location=[marker.latitude, marker.longitude],\n",
    "        popup=marker.name,\n",
    "        icon=folium.Icon(color=color, icon=\"star-empty\"),    #  heart  glass  star  cutlery  star   music     tar-empty\n",
    "    ).add_to(m)\n",
    "\n",
    "m"
   ]
  },
  {
   "cell_type": "code",
   "execution_count": null,
   "id": "c748cc9d-530c-4de9-8861-a6070b8b02ec",
   "metadata": {},
   "outputs": [],
   "source": []
  },
  {
   "cell_type": "code",
   "execution_count": null,
   "id": "e38ea77c-88c6-41d7-8617-a9a4c401a267",
   "metadata": {},
   "outputs": [],
   "source": [
    "# (NEW)  (ONLY AT THE FAIR)  Seltzer\n",
    "df_drinks['is_new'] = df_drinks['drink'].str.contains('NEW')\n",
    "df_drinks['is_only_at_fair'] = df_drinks['drink'].str.contains('ONLY AT THE FAIR')\n",
    "df_drinks['is_seltzer'] = df_drinks['drink'].str.contains('Seltzer')\n",
    "\n",
    "df_drinks['drink'] = df_drinks['drink'].str.replace('(NEW)', '', regex=False)\n",
    "df_drinks['drink'] = df_drinks['drink'].str.replace('(ONLY AT THE FAIR)', '', regex=False)\n",
    "df_drinks['drink'] = df_drinks['drink'].str.strip()\n",
    "\n",
    "print(df_drinks.shape)\n",
    "df_drinks.head()\n",
    "\n",
    "df_drinks = df_drinks.drop(columns=['alcoholic_beverages', 'license_text', 'keywords', 'is_food', 'categories'])\n",
    "\n",
    "print(df_drinks.shape)\n",
    "#df_drinks.head()\n",
    "df_drinks.sample(50)\n"
   ]
  }
 ],
 "metadata": {
  "kernelspec": {
   "display_name": "Python 3.10.5 64-bit",
   "language": "python",
   "name": "python3"
  },
  "language_info": {
   "codemirror_mode": {
    "name": "ipython",
    "version": 3
   },
   "file_extension": ".py",
   "mimetype": "text/x-python",
   "name": "python",
   "nbconvert_exporter": "python",
   "pygments_lexer": "ipython3",
   "version": "3.10.5"
  },
  "vscode": {
   "interpreter": {
    "hash": "369f2c481f4da34e4445cda3fffd2e751bd1c4d706f27375911949ba6bb62e1c"
   }
  }
 },
 "nbformat": 4,
 "nbformat_minor": 5
}
